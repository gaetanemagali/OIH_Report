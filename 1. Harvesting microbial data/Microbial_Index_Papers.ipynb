{
 "cells": [
  {
   "cell_type": "code",
   "execution_count": 1,
   "id": "9741cb59-7f1c-41b6-9df5-5638f4d13aa8",
   "metadata": {},
   "outputs": [
    {
     "name": "stdout",
     "output_type": "stream",
     "text": [
      "Requirement already satisfied: pandas in /Users/gaetanemagali/opt/anaconda3/lib/python3.9/site-packages (1.4.4)\n",
      "Collecting pyarrow\n",
      "  Downloading pyarrow-16.1.0-cp39-cp39-macosx_10_15_x86_64.whl (28.4 MB)\n",
      "\u001b[2K     \u001b[90m━━━━━━━━━━━━━━━━━━━━━━━━━━━━━━━━━━━━━━━━\u001b[0m \u001b[32m28.4/28.4 MB\u001b[0m \u001b[31m2.6 MB/s\u001b[0m eta \u001b[36m0:00:00\u001b[0m00:01\u001b[0m00:01\u001b[0m\n",
      "\u001b[?25hCollecting SPARQLWrapper\n",
      "  Downloading SPARQLWrapper-2.0.0-py3-none-any.whl (28 kB)\n",
      "Collecting rdflib\n",
      "  Downloading rdflib-7.0.0-py3-none-any.whl (531 kB)\n",
      "\u001b[2K     \u001b[90m━━━━━━━━━━━━━━━━━━━━━━━━━━━━━━━━━━━━━━━\u001b[0m \u001b[32m531.9/531.9 kB\u001b[0m \u001b[31m5.6 MB/s\u001b[0m eta \u001b[36m0:00:00\u001b[0ma \u001b[36m0:00:01\u001b[0m\n",
      "\u001b[?25hRequirement already satisfied: python-dateutil>=2.8.1 in /Users/gaetanemagali/opt/anaconda3/lib/python3.9/site-packages (from pandas) (2.8.2)\n",
      "Requirement already satisfied: pytz>=2020.1 in /Users/gaetanemagali/opt/anaconda3/lib/python3.9/site-packages (from pandas) (2022.1)\n",
      "Requirement already satisfied: numpy>=1.18.5 in /Users/gaetanemagali/opt/anaconda3/lib/python3.9/site-packages (from pandas) (1.21.5)\n",
      "Requirement already satisfied: pyparsing<4,>=2.1.0 in /Users/gaetanemagali/opt/anaconda3/lib/python3.9/site-packages (from rdflib) (3.0.9)\n",
      "Collecting isodate<0.7.0,>=0.6.0\n",
      "  Downloading isodate-0.6.1-py2.py3-none-any.whl (41 kB)\n",
      "\u001b[2K     \u001b[90m━━━━━━━━━━━━━━━━━━━━━━━━━━━━━━━━━━━━━━━━\u001b[0m \u001b[32m41.7/41.7 kB\u001b[0m \u001b[31m3.7 MB/s\u001b[0m eta \u001b[36m0:00:00\u001b[0m\n",
      "\u001b[?25hRequirement already satisfied: six in /Users/gaetanemagali/opt/anaconda3/lib/python3.9/site-packages (from isodate<0.7.0,>=0.6.0->rdflib) (1.16.0)\n",
      "Installing collected packages: pyarrow, isodate, rdflib, SPARQLWrapper\n",
      "Successfully installed SPARQLWrapper-2.0.0 isodate-0.6.1 pyarrow-16.1.0 rdflib-7.0.0\n"
     ]
    }
   ],
   "source": [
    "!pip install pandas pyarrow SPARQLWrapper rdflib"
   ]
  },
  {
   "cell_type": "code",
   "execution_count": 11,
   "id": "bd64d8cf-c893-486a-981e-c5e372be5d9d",
   "metadata": {},
   "outputs": [],
   "source": [
    "import pandas as pd #data manipulation and analysis library that provides data structures like DataFrames to work with structured data\n",
    "import pyarrow #enables reading and writing of Parquet files\n",
    "from SPARQLWrapper import SPARQLWrapper, JSON #execute SPARQL queries\n",
    "import rdflib #querying of RDF data, including JSON-LD\n",
    "import json #library for parsing, generating, and manipulating JSON\n",
    "import subprocess # run shell commmands\n",
    "import os #interact with the operating system\n",
    "import re  # Import the regular expression module\n",
    "from IPython.display import display"
   ]
  },
  {
   "cell_type": "code",
   "execution_count": 14,
   "id": "97695361-5a94-4794-86c4-2f04fab469f4",
   "metadata": {},
   "outputs": [],
   "source": [
    "silva_taxa = '/' #curated files of most common marine microbial taxa "
   ]
  },
  {
   "cell_type": "code",
   "execution_count": 15,
   "id": "bc918177-f63f-44c2-a8f9-4970d77b5ec0",
   "metadata": {},
   "outputs": [],
   "source": [
    "taxa_values = ' '.join([f'\"{taxon}\"' for taxon in silva_taxa])"
   ]
  },
  {
   "cell_type": "code",
   "execution_count": 16,
   "id": "374f30de-34a8-4961-8061-80430d2b1579",
   "metadata": {},
   "outputs": [],
   "source": [
    "# endpoint where the data is stored, such as the ODIS graph:\n",
    "endpoint = \"http://graph.oceaninfohub.org/blazegraph/namespace/oih/sparql\""
   ]
  },
  {
   "cell_type": "code",
   "execution_count": null,
   "id": "6af56036-2173-495a-baff-48d36573c28d",
   "metadata": {},
   "outputs": [],
   "source": [
    "#Template of the SPARQL query\n",
    "#Dwc = Darwin Code\n",
    "#schema.org dataset\n",
    "#\"\"\" allowing to write multi-line query\n",
    "#LCASE : performs case-insensitive comparisons and REGEX for complex pattern matching such as plural/singular forms and other text patterns \n",
    "#If taxonomy is available, then it will be included in the result, if not, then the query still returns a results without those fields\n",
    "#The marine or microbial entity must be matched for the \"marine microorganism\" to be valid\n",
    "\n",
    "sparql_microbe_query = \"\"\" \n",
    "SELECT ?dataset ?associatedTaxa ?class ?family ?genericName ?genus ?higherClassification ?kingdom ?order ?phylum ?scientificName ?superfamily ?taxonAttributes ?verbatimIdentification ?associatedSequences ?acceptedNameUsageID ?acceptedNameUsage ?GeologicalContext ?Occurrence ?habitat ?occurrenceRemarks ?occurrenceDetails ?MaterialEntity ?MaterialSample\n",
    "\n",
    "WHERE {{\n",
    "  VALUES ?taxa {{ {taxa_values} }}\n",
    "  ?dataset a schema:Dataset ;\n",
    "           dwc:scientificName ?scientificName ;\n",
    "           OPTIONAL {{ ?dataset dwc:class ?class }} ;\n",
    "           OPTIONAL {{ ?dataset dwc:family ?family }} ;\n",
    "           OPTIONAL {{ ?dataset dwc:genericName ?genericName }} ;\n",
    "           OPTIONAL {{ ?dataset dwc:genus ?genus }} ;\n",
    "           OPTIONAL {{ ?dataset dwc:higherClassification ?higherClassification }} ;\n",
    "           OPTIONAL {{ ?dataset dwc:kingdom ?kingdom }} ;\n",
    "           OPTIONAL {{ ?dataset dwc:order ?order }} ;\n",
    "           OPTIONAL {{ ?dataset dwc:phylum ?phylum }} ;\n",
    "           OPTIONAL {{ ?dataset dwc:superfamily ?superfamily }} ;\n",
    "           OPTIONAL {{ ?dataset dwc:taxonAttributes ?taxonAttributes }} ;\n",
    "           OPTIONAL {{ ?dataset dwc:verbatimIdentification ?verbatimIdentification }} ;\n",
    "           OPTIONAL {{ ?dataset dwc:associatedSequences ?associatedSequences }} ;\n",
    "           OPTIONAL {{ ?dataset dwc:acceptedNameUsageID ?acceptedNameUsageID }} ;\n",
    "           OPTIONAL {{ ?dataset dwc:acceptedNameUsage ?acceptedNameUsage }} ;\n",
    "           OPTIONAL {{ ?dataset dwc:GeologicalContext ?GeologicalContext }} ;\n",
    "           OPTIONAL {{ ?dataset dwc:Occurrence ?Occurrence }} ;\n",
    "           OPTIONAL {{ ?dataset dwc:habitat ?habitat }} ;\n",
    "           OPTIONAL {{ ?dataset dwc:occurrenceRemarks ?occurrenceRemarks }} ;\n",
    "           OPTIONAL {{ ?dataset dwc:occurrenceDetails ?occurrenceDetails }} ;\n",
    "           OPTIONAL {{ ?dataset dwc:MaterialEntity ?MaterialEntity }} ;\n",
    "           OPTIONAL {{ ?dataset dwc:MaterialSample ?MaterialSample }} .\n",
    "  FILTER (\n",
    "    LCASE(?scientificName) IN ({taxa_values}) &&\n",
    "    LCASE(?habitat) IN (\"marine\", \"pelagic\", \"oceanic\", \"maritime\", \"coastal\", \"seafaring\", \"littoral\", \"benthic\", \"abyssal\", \"planktonic\", \"bathyal\", \"epipelagic\", \"mesopelagic\", \"upwelling\", \"downwelling\", \"saltwater\", \"gyre\", \"MPA\") &&\n",
    "    REGEX(LCASE(?MaterialEntity), \"microbe|bacteria|bacterium|bacillus|microflora|microbial|prokaryote|protist|archaea|microorganism\")\n",
    "  )\n",
    "}}\n",
    "\"\"\"\n"
   ]
  },
  {
   "cell_type": "code",
   "execution_count": null,
   "id": "bdf1edaf-45f1-4337-ae47-8630d043bf27",
   "metadata": {},
   "outputs": [],
   "source": [
    "# Set up the SPARQLWrapper\n",
    "sparql = SPARQLWrapper(sparql_endpoint)\n",
    "sparql.setQuery(sparql_microbe_query)\n",
    "sparql.setReturnFormat(JSON)"
   ]
  },
  {
   "cell_type": "code",
   "execution_count": null,
   "id": "74135b8c-d488-461a-b401-668b4df81cee",
   "metadata": {},
   "outputs": [],
   "source": [
    "#sparql.query() sends the query to the SPARQL endpoint and retrieves results\n",
    "#convert() processes raw results and converts them to a JSON object, a list of bindings\n",
    "sparql_microbe_query_results = sparql.query().convert()"
   ]
  },
  {
   "cell_type": "code",
   "execution_count": 1,
   "id": "d9aa6e98-5148-49fc-98f5-75282163f97e",
   "metadata": {},
   "outputs": [
    {
     "name": "stdout",
     "output_type": "stream",
     "text": [
      "Collecting spacy\n",
      "  Downloading spacy-3.7.5-cp39-cp39-macosx_10_9_x86_64.whl (6.9 MB)\n",
      "\u001b[2K     \u001b[90m━━━━━━━━━━━━━━━━━━━━━━━━━━━━━━━━━━━━━━━━\u001b[0m \u001b[32m6.9/6.9 MB\u001b[0m \u001b[31m21.5 MB/s\u001b[0m eta \u001b[36m0:00:00\u001b[0m00:01\u001b[0m00:01\u001b[0m\n",
      "\u001b[?25hRequirement already satisfied: numpy>=1.19.0 in /Users/gaetanemagali/opt/anaconda3/lib/python3.9/site-packages (from spacy) (1.21.5)\n",
      "Requirement already satisfied: setuptools in /Users/gaetanemagali/opt/anaconda3/lib/python3.9/site-packages (from spacy) (63.4.1)\n",
      "Collecting weasel<0.5.0,>=0.1.0\n",
      "  Downloading weasel-0.4.1-py3-none-any.whl (50 kB)\n",
      "\u001b[2K     \u001b[90m━━━━━━━━━━━━━━━━━━━━━━━━━━━━━━━━━━━━━━━━\u001b[0m \u001b[32m50.3/50.3 kB\u001b[0m \u001b[31m5.1 MB/s\u001b[0m eta \u001b[36m0:00:00\u001b[0m\n",
      "\u001b[?25hCollecting wasabi<1.2.0,>=0.9.1\n",
      "  Downloading wasabi-1.1.3-py3-none-any.whl (27 kB)\n",
      "Requirement already satisfied: jinja2 in /Users/gaetanemagali/opt/anaconda3/lib/python3.9/site-packages (from spacy) (3.1.2)\n",
      "Collecting srsly<3.0.0,>=2.4.3\n",
      "  Downloading srsly-2.4.8-cp39-cp39-macosx_10_9_x86_64.whl (493 kB)\n",
      "\u001b[2K     \u001b[90m━━━━━━━━━━━━━━━━━━━━━━━━━━━━━━━━━━━━━━\u001b[0m \u001b[32m493.1/493.1 kB\u001b[0m \u001b[31m21.2 MB/s\u001b[0m eta \u001b[36m0:00:00\u001b[0m\n",
      "\u001b[?25hCollecting preshed<3.1.0,>=3.0.2\n",
      "  Downloading preshed-3.0.9-cp39-cp39-macosx_10_9_x86_64.whl (133 kB)\n",
      "\u001b[2K     \u001b[90m━━━━━━━━━━━━━━━━━━━━━━━━━━━━━━━━━━━━━━\u001b[0m \u001b[32m133.5/133.5 kB\u001b[0m \u001b[31m17.3 MB/s\u001b[0m eta \u001b[36m0:00:00\u001b[0m\n",
      "\u001b[?25hCollecting catalogue<2.1.0,>=2.0.6\n",
      "  Downloading catalogue-2.0.10-py3-none-any.whl (17 kB)\n",
      "Collecting typer<1.0.0,>=0.3.0\n",
      "  Downloading typer-0.12.3-py3-none-any.whl (47 kB)\n",
      "\u001b[2K     \u001b[90m━━━━━━━━━━━━━━━━━━━━━━━━━━━━━━━━━━━━━━━━\u001b[0m \u001b[32m47.2/47.2 kB\u001b[0m \u001b[31m4.3 MB/s\u001b[0m eta \u001b[36m0:00:00\u001b[0m\n",
      "\u001b[?25hCollecting langcodes<4.0.0,>=3.2.0\n",
      "  Downloading langcodes-3.4.0-py3-none-any.whl (182 kB)\n",
      "\u001b[2K     \u001b[90m━━━━━━━━━━━━━━━━━━━━━━━━━━━━━━━━━━━━━━\u001b[0m \u001b[32m182.0/182.0 kB\u001b[0m \u001b[31m15.0 MB/s\u001b[0m eta \u001b[36m0:00:00\u001b[0m\n",
      "\u001b[?25hCollecting spacy-loggers<2.0.0,>=1.0.0\n",
      "  Downloading spacy_loggers-1.0.5-py3-none-any.whl (22 kB)\n",
      "Collecting cymem<2.1.0,>=2.0.2\n",
      "  Downloading cymem-2.0.8-cp39-cp39-macosx_10_9_x86_64.whl (42 kB)\n",
      "\u001b[2K     \u001b[90m━━━━━━━━━━━━━━━━━━━━━━━━━━━━━━━━━━━━━━━━\u001b[0m \u001b[32m42.1/42.1 kB\u001b[0m \u001b[31m3.5 MB/s\u001b[0m eta \u001b[36m0:00:00\u001b[0m\n",
      "\u001b[?25hCollecting murmurhash<1.1.0,>=0.28.0\n",
      "  Downloading murmurhash-1.0.10-cp39-cp39-macosx_10_9_x86_64.whl (26 kB)\n",
      "Collecting spacy-legacy<3.1.0,>=3.0.11\n",
      "  Downloading spacy_legacy-3.0.12-py2.py3-none-any.whl (29 kB)\n",
      "Requirement already satisfied: tqdm<5.0.0,>=4.38.0 in /Users/gaetanemagali/opt/anaconda3/lib/python3.9/site-packages (from spacy) (4.64.1)\n",
      "Requirement already satisfied: requests<3.0.0,>=2.13.0 in /Users/gaetanemagali/opt/anaconda3/lib/python3.9/site-packages (from spacy) (2.31.0)\n",
      "Requirement already satisfied: packaging>=20.0 in /Users/gaetanemagali/opt/anaconda3/lib/python3.9/site-packages (from spacy) (21.3)\n",
      "Requirement already satisfied: pydantic!=1.8,!=1.8.1,<3.0.0,>=1.7.4 in /Users/gaetanemagali/opt/anaconda3/lib/python3.9/site-packages (from spacy) (2.6.4)\n",
      "Collecting thinc<8.3.0,>=8.2.2\n",
      "  Downloading thinc-8.2.5-cp39-cp39-macosx_10_9_x86_64.whl (847 kB)\n",
      "\u001b[2K     \u001b[90m━━━━━━━━━━━━━━━━━━━━━━━━━━━━━━━━━━━━━━\u001b[0m \u001b[32m847.9/847.9 kB\u001b[0m \u001b[31m21.2 MB/s\u001b[0m eta \u001b[36m0:00:00\u001b[0m00:01\u001b[0m\n",
      "\u001b[?25hCollecting language-data>=1.2\n",
      "  Downloading language_data-1.2.0-py3-none-any.whl (5.4 MB)\n",
      "\u001b[2K     \u001b[90m━━━━━━━━━━━━━━━━━━━━━━━━━━━━━━━━━━━━━━━━\u001b[0m \u001b[32m5.4/5.4 MB\u001b[0m \u001b[31m28.7 MB/s\u001b[0m eta \u001b[36m0:00:00\u001b[0ma \u001b[36m0:00:01\u001b[0m\n",
      "\u001b[?25hRequirement already satisfied: pyparsing!=3.0.5,>=2.0.2 in /Users/gaetanemagali/opt/anaconda3/lib/python3.9/site-packages (from packaging>=20.0->spacy) (3.0.9)\n",
      "Requirement already satisfied: annotated-types>=0.4.0 in /Users/gaetanemagali/opt/anaconda3/lib/python3.9/site-packages (from pydantic!=1.8,!=1.8.1,<3.0.0,>=1.7.4->spacy) (0.6.0)\n",
      "Requirement already satisfied: pydantic-core==2.16.3 in /Users/gaetanemagali/opt/anaconda3/lib/python3.9/site-packages (from pydantic!=1.8,!=1.8.1,<3.0.0,>=1.7.4->spacy) (2.16.3)\n",
      "Requirement already satisfied: typing-extensions>=4.6.1 in /Users/gaetanemagali/opt/anaconda3/lib/python3.9/site-packages (from pydantic!=1.8,!=1.8.1,<3.0.0,>=1.7.4->spacy) (4.10.0)\n",
      "Requirement already satisfied: urllib3<3,>=1.21.1 in /Users/gaetanemagali/opt/anaconda3/lib/python3.9/site-packages (from requests<3.0.0,>=2.13.0->spacy) (1.26.11)\n",
      "Requirement already satisfied: idna<4,>=2.5 in /Users/gaetanemagali/opt/anaconda3/lib/python3.9/site-packages (from requests<3.0.0,>=2.13.0->spacy) (3.3)\n",
      "Requirement already satisfied: certifi>=2017.4.17 in /Users/gaetanemagali/opt/anaconda3/lib/python3.9/site-packages (from requests<3.0.0,>=2.13.0->spacy) (2022.9.24)\n",
      "Requirement already satisfied: charset-normalizer<4,>=2 in /Users/gaetanemagali/opt/anaconda3/lib/python3.9/site-packages (from requests<3.0.0,>=2.13.0->spacy) (2.0.4)\n",
      "Collecting blis<0.8.0,>=0.7.8\n",
      "  Downloading blis-0.7.11-cp39-cp39-macosx_10_9_x86_64.whl (6.1 MB)\n",
      "\u001b[2K     \u001b[90m━━━━━━━━━━━━━━━━━━━━━━━━━━━━━━━━━━━━━━━━\u001b[0m \u001b[32m6.1/6.1 MB\u001b[0m \u001b[31m33.7 MB/s\u001b[0m eta \u001b[36m0:00:00\u001b[0ma \u001b[36m0:00:01\u001b[0m\n",
      "\u001b[?25hCollecting confection<1.0.0,>=0.0.1\n",
      "  Downloading confection-0.1.5-py3-none-any.whl (35 kB)\n",
      "Collecting rich>=10.11.0\n",
      "  Downloading rich-13.7.1-py3-none-any.whl (240 kB)\n",
      "\u001b[2K     \u001b[90m━━━━━━━━━━━━━━━━━━━━━━━━━━━━━━━━━━━━━━\u001b[0m \u001b[32m240.7/240.7 kB\u001b[0m \u001b[31m18.0 MB/s\u001b[0m eta \u001b[36m0:00:00\u001b[0m\n",
      "\u001b[?25hRequirement already satisfied: click>=8.0.0 in /Users/gaetanemagali/opt/anaconda3/lib/python3.9/site-packages (from typer<1.0.0,>=0.3.0->spacy) (8.0.4)\n",
      "Collecting shellingham>=1.3.0\n",
      "  Downloading shellingham-1.5.4-py2.py3-none-any.whl (9.8 kB)\n",
      "Collecting cloudpathlib<1.0.0,>=0.7.0\n",
      "  Downloading cloudpathlib-0.18.1-py3-none-any.whl (47 kB)\n",
      "\u001b[2K     \u001b[90m━━━━━━━━━━━━━━━━━━━━━━━━━━━━━━━━━━━━━━━━\u001b[0m \u001b[32m47.3/47.3 kB\u001b[0m \u001b[31m4.6 MB/s\u001b[0m eta \u001b[36m0:00:00\u001b[0m\n",
      "\u001b[?25hRequirement already satisfied: smart-open<8.0.0,>=5.2.1 in /Users/gaetanemagali/opt/anaconda3/lib/python3.9/site-packages (from weasel<0.5.0,>=0.1.0->spacy) (5.2.1)\n",
      "Requirement already satisfied: MarkupSafe>=2.0 in /Users/gaetanemagali/opt/anaconda3/lib/python3.9/site-packages (from jinja2->spacy) (2.0.1)\n",
      "Collecting marisa-trie>=0.7.7\n",
      "  Downloading marisa_trie-1.2.0-cp39-cp39-macosx_10_9_x86_64.whl (192 kB)\n",
      "\u001b[2K     \u001b[90m━━━━━━━━━━━━━━━━━━━━━━━━━━━━━━━━━━━━━━\u001b[0m \u001b[32m192.1/192.1 kB\u001b[0m \u001b[31m12.5 MB/s\u001b[0m eta \u001b[36m0:00:00\u001b[0m\n",
      "\u001b[?25hCollecting markdown-it-py>=2.2.0\n",
      "  Downloading markdown_it_py-3.0.0-py3-none-any.whl (87 kB)\n",
      "\u001b[2K     \u001b[90m━━━━━━━━━━━━━━━━━━━━━━━━━━━━━━━━━━━━━━━━\u001b[0m \u001b[32m87.5/87.5 kB\u001b[0m \u001b[31m9.5 MB/s\u001b[0m eta \u001b[36m0:00:00\u001b[0m\n",
      "\u001b[?25hCollecting pygments<3.0.0,>=2.13.0\n",
      "  Downloading pygments-2.18.0-py3-none-any.whl (1.2 MB)\n",
      "\u001b[2K     \u001b[90m━━━━━━━━━━━━━━━━━━━━━━━━━━━━━━━━━━━━━━━━\u001b[0m \u001b[32m1.2/1.2 MB\u001b[0m \u001b[31m27.9 MB/s\u001b[0m eta \u001b[36m0:00:00\u001b[0m00:01\u001b[0m\n",
      "\u001b[?25hCollecting mdurl~=0.1\n",
      "  Downloading mdurl-0.1.2-py3-none-any.whl (10.0 kB)\n",
      "Installing collected packages: cymem, wasabi, spacy-loggers, spacy-legacy, shellingham, pygments, murmurhash, mdurl, marisa-trie, cloudpathlib, catalogue, blis, srsly, preshed, markdown-it-py, language-data, rich, langcodes, confection, typer, thinc, weasel, spacy\n",
      "  Attempting uninstall: pygments\n",
      "    Found existing installation: Pygments 2.11.2\n",
      "    Uninstalling Pygments-2.11.2:\n",
      "      Successfully uninstalled Pygments-2.11.2\n",
      "\u001b[31mERROR: pip's dependency resolver does not currently take into account all the packages that are installed. This behaviour is the source of the following dependency conflicts.\n",
      "spyder 5.3.3 requires pyqt5<5.16, which is not installed.\n",
      "spyder 5.3.3 requires pyqtwebengine<5.16, which is not installed.\u001b[0m\u001b[31m\n",
      "\u001b[0mSuccessfully installed blis-0.7.11 catalogue-2.0.10 cloudpathlib-0.18.1 confection-0.1.5 cymem-2.0.8 langcodes-3.4.0 language-data-1.2.0 marisa-trie-1.2.0 markdown-it-py-3.0.0 mdurl-0.1.2 murmurhash-1.0.10 preshed-3.0.9 pygments-2.18.0 rich-13.7.1 shellingham-1.5.4 spacy-3.7.5 spacy-legacy-3.0.12 spacy-loggers-1.0.5 srsly-2.4.8 thinc-8.2.5 typer-0.12.3 wasabi-1.1.3 weasel-0.4.1\n",
      "Collecting en-core-web-sm==3.7.1\n",
      "  Downloading https://github.com/explosion/spacy-models/releases/download/en_core_web_sm-3.7.1/en_core_web_sm-3.7.1-py3-none-any.whl (12.8 MB)\n",
      "\u001b[2K     \u001b[90m━━━━━━━━━━━━━━━━━━━━━━━━━━━━━━━━━━━━━━━━\u001b[0m \u001b[32m12.8/12.8 MB\u001b[0m \u001b[31m27.2 MB/s\u001b[0m eta \u001b[36m0:00:00\u001b[0m00:01\u001b[0m00:01\u001b[0m\n",
      "\u001b[?25hRequirement already satisfied: spacy<3.8.0,>=3.7.2 in /Users/gaetanemagali/opt/anaconda3/lib/python3.9/site-packages (from en-core-web-sm==3.7.1) (3.7.5)\n",
      "Requirement already satisfied: spacy-loggers<2.0.0,>=1.0.0 in /Users/gaetanemagali/opt/anaconda3/lib/python3.9/site-packages (from spacy<3.8.0,>=3.7.2->en-core-web-sm==3.7.1) (1.0.5)\n",
      "Requirement already satisfied: murmurhash<1.1.0,>=0.28.0 in /Users/gaetanemagali/opt/anaconda3/lib/python3.9/site-packages (from spacy<3.8.0,>=3.7.2->en-core-web-sm==3.7.1) (1.0.10)\n",
      "Requirement already satisfied: spacy-legacy<3.1.0,>=3.0.11 in /Users/gaetanemagali/opt/anaconda3/lib/python3.9/site-packages (from spacy<3.8.0,>=3.7.2->en-core-web-sm==3.7.1) (3.0.12)\n",
      "Requirement already satisfied: preshed<3.1.0,>=3.0.2 in /Users/gaetanemagali/opt/anaconda3/lib/python3.9/site-packages (from spacy<3.8.0,>=3.7.2->en-core-web-sm==3.7.1) (3.0.9)\n",
      "Requirement already satisfied: packaging>=20.0 in /Users/gaetanemagali/opt/anaconda3/lib/python3.9/site-packages (from spacy<3.8.0,>=3.7.2->en-core-web-sm==3.7.1) (21.3)\n",
      "Requirement already satisfied: jinja2 in /Users/gaetanemagali/opt/anaconda3/lib/python3.9/site-packages (from spacy<3.8.0,>=3.7.2->en-core-web-sm==3.7.1) (3.1.2)\n",
      "Requirement already satisfied: catalogue<2.1.0,>=2.0.6 in /Users/gaetanemagali/opt/anaconda3/lib/python3.9/site-packages (from spacy<3.8.0,>=3.7.2->en-core-web-sm==3.7.1) (2.0.10)\n",
      "Requirement already satisfied: thinc<8.3.0,>=8.2.2 in /Users/gaetanemagali/opt/anaconda3/lib/python3.9/site-packages (from spacy<3.8.0,>=3.7.2->en-core-web-sm==3.7.1) (8.2.5)\n",
      "Requirement already satisfied: typer<1.0.0,>=0.3.0 in /Users/gaetanemagali/opt/anaconda3/lib/python3.9/site-packages (from spacy<3.8.0,>=3.7.2->en-core-web-sm==3.7.1) (0.12.3)\n",
      "Requirement already satisfied: pydantic!=1.8,!=1.8.1,<3.0.0,>=1.7.4 in /Users/gaetanemagali/opt/anaconda3/lib/python3.9/site-packages (from spacy<3.8.0,>=3.7.2->en-core-web-sm==3.7.1) (2.6.4)\n",
      "Requirement already satisfied: tqdm<5.0.0,>=4.38.0 in /Users/gaetanemagali/opt/anaconda3/lib/python3.9/site-packages (from spacy<3.8.0,>=3.7.2->en-core-web-sm==3.7.1) (4.64.1)\n",
      "Requirement already satisfied: langcodes<4.0.0,>=3.2.0 in /Users/gaetanemagali/opt/anaconda3/lib/python3.9/site-packages (from spacy<3.8.0,>=3.7.2->en-core-web-sm==3.7.1) (3.4.0)\n",
      "Requirement already satisfied: srsly<3.0.0,>=2.4.3 in /Users/gaetanemagali/opt/anaconda3/lib/python3.9/site-packages (from spacy<3.8.0,>=3.7.2->en-core-web-sm==3.7.1) (2.4.8)\n",
      "Requirement already satisfied: cymem<2.1.0,>=2.0.2 in /Users/gaetanemagali/opt/anaconda3/lib/python3.9/site-packages (from spacy<3.8.0,>=3.7.2->en-core-web-sm==3.7.1) (2.0.8)\n",
      "Requirement already satisfied: requests<3.0.0,>=2.13.0 in /Users/gaetanemagali/opt/anaconda3/lib/python3.9/site-packages (from spacy<3.8.0,>=3.7.2->en-core-web-sm==3.7.1) (2.31.0)\n",
      "Requirement already satisfied: numpy>=1.19.0 in /Users/gaetanemagali/opt/anaconda3/lib/python3.9/site-packages (from spacy<3.8.0,>=3.7.2->en-core-web-sm==3.7.1) (1.21.5)\n",
      "Requirement already satisfied: wasabi<1.2.0,>=0.9.1 in /Users/gaetanemagali/opt/anaconda3/lib/python3.9/site-packages (from spacy<3.8.0,>=3.7.2->en-core-web-sm==3.7.1) (1.1.3)\n",
      "Requirement already satisfied: setuptools in /Users/gaetanemagali/opt/anaconda3/lib/python3.9/site-packages (from spacy<3.8.0,>=3.7.2->en-core-web-sm==3.7.1) (63.4.1)\n",
      "Requirement already satisfied: weasel<0.5.0,>=0.1.0 in /Users/gaetanemagali/opt/anaconda3/lib/python3.9/site-packages (from spacy<3.8.0,>=3.7.2->en-core-web-sm==3.7.1) (0.4.1)\n",
      "Requirement already satisfied: language-data>=1.2 in /Users/gaetanemagali/opt/anaconda3/lib/python3.9/site-packages (from langcodes<4.0.0,>=3.2.0->spacy<3.8.0,>=3.7.2->en-core-web-sm==3.7.1) (1.2.0)\n",
      "Requirement already satisfied: pyparsing!=3.0.5,>=2.0.2 in /Users/gaetanemagali/opt/anaconda3/lib/python3.9/site-packages (from packaging>=20.0->spacy<3.8.0,>=3.7.2->en-core-web-sm==3.7.1) (3.0.9)\n",
      "Requirement already satisfied: pydantic-core==2.16.3 in /Users/gaetanemagali/opt/anaconda3/lib/python3.9/site-packages (from pydantic!=1.8,!=1.8.1,<3.0.0,>=1.7.4->spacy<3.8.0,>=3.7.2->en-core-web-sm==3.7.1) (2.16.3)\n",
      "Requirement already satisfied: typing-extensions>=4.6.1 in /Users/gaetanemagali/opt/anaconda3/lib/python3.9/site-packages (from pydantic!=1.8,!=1.8.1,<3.0.0,>=1.7.4->spacy<3.8.0,>=3.7.2->en-core-web-sm==3.7.1) (4.10.0)\n",
      "Requirement already satisfied: annotated-types>=0.4.0 in /Users/gaetanemagali/opt/anaconda3/lib/python3.9/site-packages (from pydantic!=1.8,!=1.8.1,<3.0.0,>=1.7.4->spacy<3.8.0,>=3.7.2->en-core-web-sm==3.7.1) (0.6.0)\n",
      "Requirement already satisfied: urllib3<3,>=1.21.1 in /Users/gaetanemagali/opt/anaconda3/lib/python3.9/site-packages (from requests<3.0.0,>=2.13.0->spacy<3.8.0,>=3.7.2->en-core-web-sm==3.7.1) (1.26.11)\n",
      "Requirement already satisfied: certifi>=2017.4.17 in /Users/gaetanemagali/opt/anaconda3/lib/python3.9/site-packages (from requests<3.0.0,>=2.13.0->spacy<3.8.0,>=3.7.2->en-core-web-sm==3.7.1) (2022.9.24)\n",
      "Requirement already satisfied: idna<4,>=2.5 in /Users/gaetanemagali/opt/anaconda3/lib/python3.9/site-packages (from requests<3.0.0,>=2.13.0->spacy<3.8.0,>=3.7.2->en-core-web-sm==3.7.1) (3.3)\n",
      "Requirement already satisfied: charset-normalizer<4,>=2 in /Users/gaetanemagali/opt/anaconda3/lib/python3.9/site-packages (from requests<3.0.0,>=2.13.0->spacy<3.8.0,>=3.7.2->en-core-web-sm==3.7.1) (2.0.4)\n",
      "Requirement already satisfied: blis<0.8.0,>=0.7.8 in /Users/gaetanemagali/opt/anaconda3/lib/python3.9/site-packages (from thinc<8.3.0,>=8.2.2->spacy<3.8.0,>=3.7.2->en-core-web-sm==3.7.1) (0.7.11)\n",
      "Requirement already satisfied: confection<1.0.0,>=0.0.1 in /Users/gaetanemagali/opt/anaconda3/lib/python3.9/site-packages (from thinc<8.3.0,>=8.2.2->spacy<3.8.0,>=3.7.2->en-core-web-sm==3.7.1) (0.1.5)\n",
      "Requirement already satisfied: rich>=10.11.0 in /Users/gaetanemagali/opt/anaconda3/lib/python3.9/site-packages (from typer<1.0.0,>=0.3.0->spacy<3.8.0,>=3.7.2->en-core-web-sm==3.7.1) (13.7.1)\n",
      "Requirement already satisfied: click>=8.0.0 in /Users/gaetanemagali/opt/anaconda3/lib/python3.9/site-packages (from typer<1.0.0,>=0.3.0->spacy<3.8.0,>=3.7.2->en-core-web-sm==3.7.1) (8.0.4)\n",
      "Requirement already satisfied: shellingham>=1.3.0 in /Users/gaetanemagali/opt/anaconda3/lib/python3.9/site-packages (from typer<1.0.0,>=0.3.0->spacy<3.8.0,>=3.7.2->en-core-web-sm==3.7.1) (1.5.4)\n",
      "Requirement already satisfied: cloudpathlib<1.0.0,>=0.7.0 in /Users/gaetanemagali/opt/anaconda3/lib/python3.9/site-packages (from weasel<0.5.0,>=0.1.0->spacy<3.8.0,>=3.7.2->en-core-web-sm==3.7.1) (0.18.1)\n",
      "Requirement already satisfied: smart-open<8.0.0,>=5.2.1 in /Users/gaetanemagali/opt/anaconda3/lib/python3.9/site-packages (from weasel<0.5.0,>=0.1.0->spacy<3.8.0,>=3.7.2->en-core-web-sm==3.7.1) (5.2.1)\n",
      "Requirement already satisfied: MarkupSafe>=2.0 in /Users/gaetanemagali/opt/anaconda3/lib/python3.9/site-packages (from jinja2->spacy<3.8.0,>=3.7.2->en-core-web-sm==3.7.1) (2.0.1)\n",
      "Requirement already satisfied: marisa-trie>=0.7.7 in /Users/gaetanemagali/opt/anaconda3/lib/python3.9/site-packages (from language-data>=1.2->langcodes<4.0.0,>=3.2.0->spacy<3.8.0,>=3.7.2->en-core-web-sm==3.7.1) (1.2.0)\n",
      "Requirement already satisfied: markdown-it-py>=2.2.0 in /Users/gaetanemagali/opt/anaconda3/lib/python3.9/site-packages (from rich>=10.11.0->typer<1.0.0,>=0.3.0->spacy<3.8.0,>=3.7.2->en-core-web-sm==3.7.1) (3.0.0)\n",
      "Requirement already satisfied: pygments<3.0.0,>=2.13.0 in /Users/gaetanemagali/opt/anaconda3/lib/python3.9/site-packages (from rich>=10.11.0->typer<1.0.0,>=0.3.0->spacy<3.8.0,>=3.7.2->en-core-web-sm==3.7.1) (2.18.0)\n",
      "Requirement already satisfied: mdurl~=0.1 in /Users/gaetanemagali/opt/anaconda3/lib/python3.9/site-packages (from markdown-it-py>=2.2.0->rich>=10.11.0->typer<1.0.0,>=0.3.0->spacy<3.8.0,>=3.7.2->en-core-web-sm==3.7.1) (0.1.2)\n",
      "Installing collected packages: en-core-web-sm\n",
      "Successfully installed en-core-web-sm-3.7.1\n",
      "\u001b[38;5;2m✔ Download and installation successful\u001b[0m\n",
      "You can now load the package via spacy.load('en_core_web_sm')\n"
     ]
    }
   ],
   "source": [
    "#use spaCy which is an open-source software library for advanced natural language processing\n",
    "!pip install spacy\n",
    "!python -m spacy download en_core_web_sm"
   ]
  },
  {
   "cell_type": "code",
   "execution_count": 14,
   "id": "bc1ff0dd-dfc5-4b40-9466-072dd6a76730",
   "metadata": {},
   "outputs": [],
   "source": [
    "import spacy\n",
    "\n",
    "# Load the english version of the spaCy model which includes the NER pipeline\n",
    "nlp = spacy.load(\"en_core_web_sm\") #Natural language processing (NLP)"
   ]
  },
  {
   "cell_type": "code",
   "execution_count": 42,
   "id": "cacf0aa3-1df5-4c7b-a842-e884b0ac6dc0",
   "metadata": {},
   "outputs": [],
   "source": [
    "#model sample data from my favorite journal article \n",
    "#Cavicchioli, R., Ripple, W.J., Timmis, K.N. et al. Scientists’ warning to humanity: microorganisms and climate change. \n",
    "#Nat Rev Microbiol 17, 569–586 (2019). https://doi.org/10.1038/s41579-019-0222-5\n",
    "sample_text = \"\"\"\n",
    "Marine biomes cover ~70% of Earth’s surface and range from coastal estuaries, mangroves and coral reefs to the open oceans (Fig. 1). Phototrophic microorganisms use the sun’s energy in the top 200 m of the water column, whereas marine life in deeper zones uses organic and inorganic chemicals for energy10. In addition to sunlight, the availability of other energy forms and water temperature (ranging from approximately −2 °C in ice-covered seas to more than 100 °C in hydrothermal vents) influence the composition of marine communities11. Rising temperatures not only affect biological processes but also reduce water density and thereby stratification and circulation, which affect organismal dispersal and nutrient transport. Precipitation, salinity and winds also affect stratification, mixing and circulation. Nutrient inputs from air, river and estuarine flows also affect microbial community composition and function, and climate change affects all these physical factors.\n",
    "Fig. 1: Microorganisms and climate change in marine and terrestrial biomes.Marine environments, microbial primary production contributes substantially to CO2sequestration. Marine microorganisms also recycle nutrients for use in the marine food web and in the process release CO2 to the atmosphere. In a broad range of terrestrial environments, microorganisms are the key decomposers of organic matter and release nutrients in the soil for plant growth as well as CO2 and CH4 into the atmosphere. Microbial biomass and other organic matter (remnants of plants and animals) are converted to fossil fuels over millions of years. By contrast, burning of fossil fuels liberates greenhouse gases in a small fraction of that time. As a result, the carbon cycle is extremely out of balance, and atmospheric CO2 levels will continue to rise as long as fossil fuels continue to be burnt. The many effects of human activities, including agriculture, industry, transport, population growth and human consumption, combined with local environmental factors, including soil type and light, greatly influence the complex network of microbial interactions that occur with other microorganisms, plants and animals. These interactions dictate how microorganisms respond to and affect climate change (for example, through greenhouse gas emissions) and how climate change (for example, higher CO2 levels, warming, and precipitation changes) in turn affect microbial responses. OMZ, oxygen minimum zone.\n",
    "The overall relevance of microorganisms to ocean ecosystems can be appreciated from their number and biomass in the water column and subsurface: the total number of cells is more than 1029 (refs8,12,13,14,15,16) and the Census of Marine Life estimates that 90% of marine biomass is microbial. Beyond their sheer numbers, marine microorganisms fulfil key ecosystem functions. By fixing carbon and nitrogen, and remineralizing organic matter, marine microorganisms form the basis of ocean food webs and thus global carbon and nutrient cycles13. The sinking, deposition and burial of fixed carbon in particulate organic matter to marine sediments is a key, long-term mechanism for sequestering CO2 from the atmosphere. Therefore, the balance between regeneration of CO2 and nutrients via remineralization versus burial in the seabed determines the effect on climate change.\n",
    "In addition to getting warmer (from increased atmospheric CO2 concentrations enhancing the greenhouse effect), oceans have acidified by ~0.1 pH units since preindustrial times, with further reductions of 0.3–0.4 units predicted by the end of the century17,18,19. Given the unprecedented rate of pH change19,20,21, there is a need to rapidly learn how marine life will respond22. The impact of elevated greenhouse gas concentrations on ocean temperature, acidification, stratification, mixing, thermohaline circulation, nutrient supply, irradiation and extreme weather events affects the marine microbiota in ways that have substantial environmental consequences, including major shifts in productivity, marine food webs, carbon export and burial in the seabed19,23,24,25,26,27,28,29.\n",
    "Microorganisms affect climate change\n",
    "Marine phytoplankton perform half of the global photosynthetic CO2 fixation (net global primary production of ~50 Pg C per year) and half of the oxygen production despite amounting to only ~1% of global plant biomass30. In comparison with terrestrial plants, marine phytoplankton are distributed over a larger surface area, are exposed to less seasonal variation and have markedly faster turnover rates than trees (days versus decades)30. Therefore, phytoplankton respond rapidly on a global scale to climate variations. These characteristics are important when one is evaluating the contributions of phytoplankton to carbon fixation and forecasting how this production may change in response to perturbations. Predicting the effects of climate change on primary productivity is complicated by phytoplankton bloom cycles that are affected by both bottom-up control (for example, availability of essential nutrients and vertical mixing) and top-down control (for example, grazing and viruses)27,30,31,32,33,34. Increases in solar radiation, temperature and freshwater inputs to surface waters strengthen ocean stratification and consequently reduce transport of nutrients from deep water to surface waters, which reduces primary productivity30,34,35. Conversely, rising CO2 levels can increase phytoplankton primary production, but only when nutrients are not limiting36,37,38.\n",
    "Some studies indicate that overall global oceanic phytoplankton density has decreased in the past century39, but these conclusions have been questioned because of the limited availability of long-term phytoplankton data, methodological differences in data generation and the large annual and decadal variability in phytoplankton production40,41,42,43. Moreover, other studies suggest a global increase in oceanic phytoplankton production44 and changes in specific regions or specific phytoplankton groups45,46. The global sea ice (Sea Ice Index) is declining, leading to higher light penetration and potentially more primary production47; however, there are conflicting predictions for the effects of variable mixing patterns and changes in nutrient supply and for productivity trends in polar zones34. This highlights the need to collect long-term data on phytoplankton production and microbial community composition. Long-term data are needed to reliably predict how microbial functions and feedback mechanisms will respond to climate change, yet only very few such datasets exist (for example, the Hawaii Ocean Time-series and the Bermuda Atlantic Time-series Study)48,49,50. In this context, the Global Ocean Sampling Expedition51, transects of the Southern Ocean52,53, and the Tara Oceans Consortium11,54,55,56,57,58,59 provide metagenome data that are a valuable baseline of marine microorganisms.\n",
    "Diatoms perform 25–45% of total primary production in the oceans60,61,62, owing to their prevalence in open-ocean regions when total phytoplankton biomass is maximal63. Diatoms have relatively high sinking speeds compared with other phytoplankton groups, and they account for ~40% of particulate carbon export to depth62,64. Physically driven seasonal enrichments in surface nutrients favour diatom blooms. Anthropogenic climate change will directly affect these seasonal cycles, changing the timing of blooms and diminishing their biomass, which will reduce primary production and CO2 uptake65. Remote sensing data suggest a global decline of diatoms between 1998 and 2012, particularly in the North Pacific, which is associated with shallowing of the surface mixed layer and lower nutrient concentrations46.\n",
    "In addition to the contribution of marine phytoplankton to CO2 sequestration30,66,67,68, chemolithoautotrophic archaea and bacteria fix CO2 under dark conditions in deep ocean waters69 and at the surface during polar winter70. Marine bacteria and archaea also contribute substantially to surface ocean respiration and cycling of many elements18. Seafloor methanogens and methanotrophs are important producers and consumers of CH4, but their influence on the atmospheric flux of this greenhouse gas is uncertain71. Marine viruses, bacteriovorous bacteria and eukaryotic grazers are also important components of microbial food webs; for example, marine viruses influence how effectively carbon is sequestered and deposited into the deep ocean57. Climate change affects predator–prey interactions, including virus–host interactions, and thereby global biogeochemical cycles72.\n",
    "Oxygen minimum zones (OMZs) have expanded in the past 50 years as a result of ocean warming, which reduces oxygen solubility73,74,75. OMZs are global sinks for reactive nitrogen, and microbial production of N2 and N2O accounts for ~25–50% of nitrogen loss from the ocean to the atmosphere. Furthermore, OMZs are the largest pelagic methane reservoirs in the ocean and contribute substantially to open ocean methane cycling. The observed and predicted future expansion of OMZs may therefore considerably affect ocean nutrient and greenhouse gas budgets, and the distributions of oxygen-dependent organisms73,74,75.\n",
    "The top 50 cm of deep-sea sediments contains ~1 × 1029 microorganisms8,16, and the total abundances of archaea and bacteria in these sediments increase with latitude (from 34° N to 79° N) with specific taxa (such as Marine Group I Thaumarchaeota) contributing disproportionately to the increase76. Benthic microorganisms show biogeographic patterns and respond to variations in the quantity and quality of the particulate matter sinking to the seafloor77. As a result, climate change is expected to particularly affect the functional processes that deep-sea benthic archaea perform (such as ammonia oxidation) and associated biogeochemical cycles76.\n",
    "Aerosols affect cloud formation, thereby influencing sunlight irradiation and precipitation, but the extent to which and the manner in which they influence climate remains uncertain78. Marine aerosols consist of a complex mixture of sea salt, non-sea-salt sulfate and organic molecules and can function as nuclei for cloud condensation, influencing the radiation balance and, hence, climate79,80. For example, biogenic aerosols in remote marine environments (for example, the Southern Ocean) can increase the number and size of cloud droplets, having similar effects on climate as aerosols in highly polluted regions80,81,82,83. Specifically, phytoplankton emit dimethylsulfide, and its derivate sulfate promotes cloud condensation79,84. Understanding the ways in which marine phytoplankton contribute to aerosols will allow better predictions of how changing ocean conditions will affect clouds and feed back on climate84. In addition, the atmosphere itself contains ~1022 microbial cells, and determining the ability of atmospheric microorganisms to grow and form aggregates will be valuable for assessing their influence on climate8.\n",
    "Vegetated coastal habitats are important for carbon sequestration, determined by the full trophic spectrum from predators to herbivores, to plants and their associated microbial communities85. Human activity, including anthropogenic climate change, has reduced these habitats over the past 50 years by 25–50%, and the abundance of marine predators has dropped by up to 90%85,86,87. Given such extensive perturbation, the effects on microbial communities need to be evaluated because microbial activity determines how much carbon is remineralized and released as CO2 and CH4.\n",
    "Climate change affects microorganisms\n",
    "Climate change perturbs interactions between species and forces species to adapt, migrate and be replaced by others or go extinct28,88. Ocean warming, acidification, eutrophication and overuse (for example, fishing, tourism) together cause the decline of coral reefs and may cause ecosystems shifts towards macroalgae89,90,91,92,93 and benthic cyanobacterial mats94,95. The capacity for corals to adapt to climate change is strongly influenced by the responses of their associated microorganisms, including microalgal symbionts and bacteria96,97,98. The hundreds to thousands of microbial species that live on corals are crucial for host health, for example by recycling the waste products, by provisioning essential nutrients and vitamins and by assisting the immune system to fight pathogens99. However, environmental perturbation or coral bleaching can change the coral microbiome rapidly. Such shifts undoubtedly influence the ecological functions and stability of the coral–microorganism system, potentially affecting the capacity and pace at which corals adapt to climate change, and the relationships between corals and other components of the reef ecosystem99,100.\n",
    "Generally, microorganisms can disperse more easily than macroscopic organisms. Nevertheless, biogeographic distinctions occur for many microbial species, with dispersal, lifestyle (for example, host association) and environmental factors strongly influencing community composition and function54,101,102,103. Ocean currents and thermal and latitudinal gradients are particularly important for marine communities104,105. If movement to more favourable environments is impossible, evolutionary change may be the only survival mechanism88. Microorganisms, such as bacteria, archaea and microalgae, with large population sizes and rapid asexual generation times have high adaptive potential22. Relatively few studies have examined evolutionary adaptation to ocean acidification or other climate change-relevant environmental variables22,28. Similarly, there is limited understanding of the molecular mechanisms of physiological responses and the implications of those responses for biogeochemical cycles18.\n",
    "However, several studies have demonstrated effects of elevated CO2 levels on individual phytoplankton species, which may disrupt broader ecosystem-level processes. A field experiment demonstrated that increasing CO2 levels provide a selective advantage to a toxic microalga, Vicicitus globosus, leading to disruption of organic matter transfer across trophic levels106. The marine cyanobacterial genus Trichodesmium responds to long-term (4.5-year) exposure to elevated CO2 levels with irreversible genetic changes that increase nitrogen fixation and growth107. For the photosynthetic green alga Ostreococcus tauri, elevated CO2levels increase growth, cell size and carbon-to-nitrogen ratios108. Higher CO2 levels also affect the population structure of O. tauri, with changes in ecotypes and niche occupation, thereby affecting the broader food webs and biogeochemical cycles108. Rather than producing larger cells, the calcifying phytoplankton species Emiliania huxleyi responds to the combined effects of elevated temperature and elevated CO2 levels (and associated acidification) by producing smaller cells that contain less carbon109. However, for this species, overall production rates do not change as a result of evolutionary adaptation to higher CO2 levels109. Responses to CO2 levels differ between communities (for example, between Arctic phytoplankton and Antarctic phytoplankton110). A mesocosm study identified variable changes in the diversity of viruses that infect E. huxleyi when it is growing under elevated CO2levels, and noted the need to determine whether elevated CO2 levels directly affected viruses, hosts or the interactions between them111. These examples illustrate the need to improve our understanding of evolutionary processes and incorporate that knowledge into predictions of the effects of climate change.\n",
    "Ocean acidification presents marine microorganisms with pH conditions well outside their recent historical range, which affects their intracellular pH homeostasis18,112. Species that are less adept at regulating internal pH will be more affected, and factors such as organism size, aggregation state, metabolic activity and growth rate influence the capacity for regulation112.\n",
    "Lower pH causes bacteria and archaea to change gene expression in ways that support cell maintenance rather than growth18. In mesocosms with low phytoplankton biomass, bacteria committed more resources to pH homeostasis than bacteria in nutrient-enriched mesocosms with high phytoplankton biomass. Consequently, ocean acidification is predicted to alter the microbial food web via changes in cellular growth efficiency, carbon cycling and energy fluxes, with the biggest effects expected in the oligotrophic regions, which include most of the ocean18. Experimental comparisons of Synechococcus sp. growth under both present and predicted future pH concentrations showed effects not only on the cyanobacteria but also on the cyanophage viruses that infect them113.\n",
    "Environmental temperature and latitude correlate with the diversity, distribution and/or temperature optimum (Topt) of certain marine taxa, with models predicting that rising temperatures will cause a poleward shift of cold-adapted communities52,114,115,116,117,118. However, Topt of phytoplankton from polar and temperate waters was found to be substantially higher than environmental temperatures, and an eco-evolutionary model predicted that Topt for tropical phytoplankton would be substantially higher than observed experimental values116. Understanding how well microorganisms are adapted to environmental temperature and predicting how they will respond to warming requires assessments of more than Topt, which is generally a poor indicator of physiological and ecological adaptation of microorganisms from cold environments119.\n",
    "Many environmental and physiological factors influence the responses and overall competitiveness of microorganisms in their native environment. For example, elevated temperatures increase protein synthesis in eukaryotic phytoplankton while reducing cellular ribosome concentration120. As the biomass of eukaryotic phytoplankton is ~1 Gt C (ref.13) and ribosomes are phosphate rich, climate change-driven alteration of their nitrogen-to-phosphate ratio will affect resource allocation in the global ocean120. Ocean warming is thought to favour smaller plankton types over larger ones, changing biogeochemical fluxes such as particle export121. Increased ocean temperatures, acidification and decreased nutrient supplies are projected to increase the extracellular release of dissolved organic matter from phytoplankton, with changes in the microbial loop possibly causing increased microbial production at the expense of higher trophic levels122. Warming can also alleviate iron limitation of nitrogen-fixing cyanobacteria, with potentially profound implications for new nitrogen supplied to food webs of the future warming oceans123. Careful attention needs to be paid to how to quantify and interpret responses of environmental microorganisms to ecosystem changes and stresses linked to climate change124,125. Key questions thus remain about the functional consequences of community shifts, such as changes in carbon remineralization versus carbon sequestration, and nutrient cycling.\n",
    "\n",
    "\"\"\""
   ]
  },
  {
   "cell_type": "code",
   "execution_count": 43,
   "id": "972ff91c-5204-43f7-bf1e-f5f8ff01e9ba",
   "metadata": {},
   "outputs": [],
   "source": [
    "# Initial seed list of microbial-related terms\n",
    "seed_terms = [\"microbe\", \"bacteria\", \"bacterium\", \"bacillus\", \"microflora\", \"microbial\", \"prokaryote\", \"protist\", \"archaea\", \"microorganism\"]"
   ]
  },
  {
   "cell_type": "code",
   "execution_count": 44,
   "id": "5e15e10c-6657-4246-a8af-7e86ef636001",
   "metadata": {},
   "outputs": [],
   "source": [
    "# Function to find similar terms using word vectors\n",
    "def find_similar_terms(seed_terms, nlp, topn=10):\n",
    "    similar_terms = set(seed_terms)\n",
    "    for term in seed_terms:\n",
    "        token = nlp(term)[0]  # Get the first token in the Doc\n",
    "        if token.has_vector:\n",
    "            most_similar = token.vocab.vectors.most_similar(token.vector.reshape(1, token.vector.shape[0]), n=topn)[0]\n",
    "            similar_terms.update([nlp.vocab.strings[w] for w in most_similar if isinstance(w, int)])\n",
    "    return similar_terms\n"
   ]
  },
  {
   "cell_type": "code",
   "execution_count": 45,
   "id": "18e4d3d1-ee8c-4665-94f5-a08d4a054d8a",
   "metadata": {},
   "outputs": [],
   "source": [
    "expanded_terms = find_similar_terms(seed_terms, nlp)"
   ]
  },
  {
   "cell_type": "code",
   "execution_count": 46,
   "id": "5f9a371e-243e-466e-b4da-2ee0c88d64d3",
   "metadata": {},
   "outputs": [],
   "source": [
    "doc = nlp(text_corpus)"
   ]
  },
  {
   "cell_type": "code",
   "execution_count": 47,
   "id": "d1cc71fd-c34e-41dc-9b7a-6bb84b476bab",
   "metadata": {},
   "outputs": [],
   "source": [
    "# Extract entities and terms\n",
    "terms_freq = defaultdict(int)\n",
    "for token in doc:\n",
    "    if any(term in token.text.lower() for term in expanded_terms):\n",
    "        terms_freq[token.text.lower()] += 1\n"
   ]
  },
  {
   "cell_type": "code",
   "execution_count": 48,
   "id": "81f323ac-bec0-439e-ab26-2e04444f137d",
   "metadata": {},
   "outputs": [],
   "source": [
    "# Remove duplicates and sort the list\n",
    "all_terms = sorted(terms_freq.keys())"
   ]
  },
  {
   "cell_type": "code",
   "execution_count": 49,
   "id": "8f0e2216-58c5-4db5-a709-1003275e86af",
   "metadata": {},
   "outputs": [
    {
     "name": "stdout",
     "output_type": "stream",
     "text": [
      "Generated Index of Microbial-Related Terms:\n",
      "archaea\n",
      "bacillus\n",
      "bacteria\n",
      "bacterium\n",
      "microbial\n",
      "microorganisms\n",
      "protists\n"
     ]
    }
   ],
   "source": [
    "# Display the generated index\n",
    "print(\"Generated Index of Microbial-Related Terms:\")\n",
    "for term in all_terms:\n",
    "    print(term)"
   ]
  },
  {
   "cell_type": "code",
   "execution_count": null,
   "id": "c975f78b-4d65-44c0-85f8-9a12de1feff6",
   "metadata": {},
   "outputs": [],
   "source": []
  }
 ],
 "metadata": {
  "kernelspec": {
   "display_name": "Python 3 (ipykernel)",
   "language": "python",
   "name": "python3"
  },
  "language_info": {
   "codemirror_mode": {
    "name": "ipython",
    "version": 3
   },
   "file_extension": ".py",
   "mimetype": "text/x-python",
   "name": "python",
   "nbconvert_exporter": "python",
   "pygments_lexer": "ipython3",
   "version": "3.9.13"
  }
 },
 "nbformat": 4,
 "nbformat_minor": 5
}
