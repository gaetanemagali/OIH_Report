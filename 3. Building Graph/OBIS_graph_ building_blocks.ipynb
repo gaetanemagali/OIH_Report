{
 "cells": [
  {
   "cell_type": "code",
   "execution_count": 37,
   "id": "0dc2afff-a335-45f7-bbf2-64adb2d06850",
   "metadata": {},
   "outputs": [],
   "source": [
    "import pandas as pd\n",
    "import networkx as nx\n",
    "import matplotlib.pyplot as plt\n",
    "import numpy as np\n",
    "from collections import defaultdict\n"
   ]
  },
  {
   "cell_type": "code",
   "execution_count": 38,
   "id": "b7fa975d-0b5a-4d74-9ae6-08379deed41a",
   "metadata": {},
   "outputs": [
    {
     "name": "stdout",
     "output_type": "stream",
     "text": [
      "                                                   s  \\\n",
      "0  <https://obis.org/dataset/a595a9a0-642a-473f-8...   \n",
      "1  <https://obis.org/dataset/a595a9a0-642a-473f-8...   \n",
      "2  <https://obis.org/dataset/0abb8cc1-8651-4213-a...   \n",
      "3  <https://obis.org/dataset/0abb8cc1-8651-4213-a...   \n",
      "4  <https://obis.org/dataset/0abb8cc1-8651-4213-a...   \n",
      "\n",
      "                                                name  \\\n",
      "0  Electronic Atlas of Ichthyoplankton on the Sco...   \n",
      "1  Electronic Atlas of Ichthyoplankton on the Sco...   \n",
      "2  Colección de Gusanos Cinta (Nemertea) de la re...   \n",
      "3  Colección de Gusanos Cinta (Nemertea) de la re...   \n",
      "4  Colección de Gusanos Cinta (Nemertea) de la re...   \n",
      "\n",
      "               matched_terms  \n",
      "0  plankton, ichthyoplankton  \n",
      "1  plankton, ichthyoplankton  \n",
      "2                       coli  \n",
      "3                       coli  \n",
      "4                       coli  \n"
     ]
    }
   ],
   "source": [
    "# Load the dataset\n",
    "final_df = pd.read_csv(\"\")#insert path to filtered OBIS file\n",
    "final_df = final_df.head(500)\n",
    "\n",
    "# Assuming final_df is your DataFrame\n",
    "final_df['matched_terms'] = final_df.apply(lambda row: ', '.join(filter(lambda x: x != 'nan', [str(row['matched_terms_keywords']), str(row['matched_terms_desc'])])), axis=1)\n",
    "\n",
    "# Display the DataFrame to check the new column\n",
    "print(final_df[['s', 'name', 'matched_terms']].head())\n",
    "final_df = final_df.head(500)\n"
   ]
  },
  {
   "cell_type": "code",
   "execution_count": 39,
   "id": "1ecd26b3-e136-4480-a109-7c95817ceb06",
   "metadata": {},
   "outputs": [],
   "source": [
    "# Create a directed graph\n",
    "G = nx.DiGraph()\n",
    "\n",
    "# Add nodes to the graph with name and matched term properties\n",
    "for index, row in final_df.iterrows():\n",
    "    G.add_node(row['s'], name=row['name'], uri=row['s'], matched_terms=row['matched_terms'])\n",
    "\n",
    "# Build edges based on co-occurence function of shared matched terms and calculate weights based on frequency of co-occurence\n",
    "def build_edges_based_on_shared_terms(df):\n",
    "    term_to_datasets = defaultdict(set)\n",
    "    for index, row in df.iterrows():\n",
    "        terms = set(row['matched_terms'].split(', '))\n",
    "        for term in terms:\n",
    "            term_to_datasets[term].add(row['s'])\n",
    "\n",
    "    edges = []\n",
    "    for term, datasets in term_to_datasets.items():\n",
    "        datasets = list(datasets)\n",
    "        for i in range(len(datasets)):\n",
    "            for j in range(i + 1, len(datasets)):\n",
    "                edges.append((datasets[i], datasets[j], term))\n",
    "    return edges\n",
    "\n",
    "# Build edges\n",
    "edges = build_edges_based_on_shared_terms(final_df)\n",
    "\n",
    "# Add weighted edges to the graph\n",
    "for edge in edges:\n",
    "    if G.has_edge(edge[0], edge[1]):\n",
    "        G[edge[0]][edge[1]]['shared_terms'].append(edge[2])\n",
    "        G[edge[0]][edge[1]]['weight'] += 1\n",
    "    else:\n",
    "        G.add_edge(edge[0], edge[1], shared_terms=[edge[2]], weight=1)\n",
    "\n",
    "# Serialize the shared_terms attribute to a string\n",
    "for u, v, data in G.edges(data=True):\n",
    "    data['shared_terms'] = ', '.join(data['shared_terms'])\n",
    "\n",
    "# Export to GEXF, excluding Label and Interval\n",
    "nx.write_gexf(G, \"OBIS_graph_500.gexf\")"
   ]
  },
  {
   "cell_type": "code",
   "execution_count": null,
   "id": "2d12d1c7-17fe-4e4a-bfae-2880f71686ab",
   "metadata": {},
   "outputs": [],
   "source": []
  }
 ],
 "metadata": {
  "kernelspec": {
   "display_name": "Python 3 (ipykernel)",
   "language": "python",
   "name": "python3"
  },
  "language_info": {
   "codemirror_mode": {
    "name": "ipython",
    "version": 3
   },
   "file_extension": ".py",
   "mimetype": "text/x-python",
   "name": "python",
   "nbconvert_exporter": "python",
   "pygments_lexer": "ipython3",
   "version": "3.9.13"
  }
 },
 "nbformat": 4,
 "nbformat_minor": 5
}
