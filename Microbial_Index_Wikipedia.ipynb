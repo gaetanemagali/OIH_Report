{
 "cells": [
  {
   "cell_type": "code",
   "execution_count": 3,
   "id": "f855b97f-1a01-438d-b7d3-cb45a2479fa2",
   "metadata": {},
   "outputs": [
    {
     "name": "stdout",
     "output_type": "stream",
     "text": [
      "Requirement already satisfied: wikipedia-api in /Users/gaetanemagali/opt/anaconda3/lib/python3.9/site-packages (0.6.0)\n",
      "Requirement already satisfied: requests in /Users/gaetanemagali/opt/anaconda3/lib/python3.9/site-packages (from wikipedia-api) (2.31.0)\n",
      "Requirement already satisfied: certifi>=2017.4.17 in /Users/gaetanemagali/opt/anaconda3/lib/python3.9/site-packages (from requests->wikipedia-api) (2022.9.24)\n",
      "Requirement already satisfied: idna<4,>=2.5 in /Users/gaetanemagali/opt/anaconda3/lib/python3.9/site-packages (from requests->wikipedia-api) (3.3)\n",
      "Requirement already satisfied: urllib3<3,>=1.21.1 in /Users/gaetanemagali/opt/anaconda3/lib/python3.9/site-packages (from requests->wikipedia-api) (1.26.11)\n",
      "Requirement already satisfied: charset-normalizer<4,>=2 in /Users/gaetanemagali/opt/anaconda3/lib/python3.9/site-packages (from requests->wikipedia-api) (2.0.4)\n",
      "Note: you may need to restart the kernel to use updated packages.\n"
     ]
    }
   ],
   "source": [
    "pip install wikipedia-api"
   ]
  },
  {
   "cell_type": "code",
   "execution_count": 4,
   "id": "8ad6a24c-5eb2-44ae-a018-52ed9124d946",
   "metadata": {},
   "outputs": [],
   "source": [
    "import wikipediaapi\n",
    "import spacy\n",
    "import pandas as pd\n",
    "from collections import defaultdict\n",
    "\n",
    "# Initialize the Wikipedia API with a custom user agent - change user to your identifier e.g. email\n",
    "user_agent = \"MicrobialTermExtractor/1.0 (user)\"\n",
    "wiki_wiki = wikipediaapi.Wikipedia('en', headers={'User-Agent': user_agent})"
   ]
  },
  {
   "cell_type": "code",
   "execution_count": 5,
   "id": "fa40cd57-eae2-4be7-a198-4e81c4ec6634",
   "metadata": {},
   "outputs": [],
   "source": [
    "# List of Wikipedia pages related to microbes\n",
    "pages = [\"Marine microorganisms\", \"marine microbiome\", \"Marine viruses\", \"Marine bacteria\", \"Bacterioplankton\", \"Bacterial motility\", \"Marine prokaryotes\", \"Marine archaea\", \"Marine protists\", \"Marine fungi\", \"Mycoplankton\", \"Marine microanimals\", \"Ichthyoplankton\", \"Marine primary production\", \"Algae\", \"Marine microplankton\",\"Marine microbenthos\", \"Sea ice microbial communities\", \"Hydrothermal vent microbial communities\", \"deep biosphere\", \"microbial dark matter\"]"
   ]
  },
  {
   "cell_type": "code",
   "execution_count": 6,
   "id": "a7e59f39-49ee-48ac-b255-ee44afb7475c",
   "metadata": {},
   "outputs": [
    {
     "name": "stdout",
     "output_type": "stream",
     "text": [
      "Fetching content from Wikipedia page: Marine microorganisms\n",
      "Fetching content from Wikipedia page: marine microbiome\n",
      "Fetching content from Wikipedia page: Marine viruses\n",
      "Fetching content from Wikipedia page: Marine bacteria\n",
      "Fetching content from Wikipedia page: Bacterioplankton\n",
      "Fetching content from Wikipedia page: Bacterial motility\n",
      "Fetching content from Wikipedia page: Marine prokaryotes\n",
      "Fetching content from Wikipedia page: Marine archaea\n",
      "Fetching content from Wikipedia page: Marine protists\n",
      "Fetching content from Wikipedia page: Marine fungi\n",
      "Fetching content from Wikipedia page: Mycoplankton\n",
      "Page Marine microanimals does not exist on Wikipedia.\n",
      "Fetching content from Wikipedia page: Ichthyoplankton\n",
      "Fetching content from Wikipedia page: Marine primary production\n",
      "Fetching content from Wikipedia page: Algae\n",
      "Fetching content from Wikipedia page: Marine microplankton\n",
      "Page Marine microbenthos does not exist on Wikipedia.\n",
      "Fetching content from Wikipedia page: Sea ice microbial communities\n",
      "Fetching content from Wikipedia page: Hydrothermal vent microbial communities\n",
      "Fetching content from Wikipedia page: deep biosphere\n",
      "Fetching content from Wikipedia page: microbial dark matter\n"
     ]
    }
   ],
   "source": [
    "# Fetch content from the Wikipedia pages\n",
    "content = \"\"\n",
    "for page_title in pages:\n",
    "    page = wiki_wiki.page(page_title)\n",
    "    if page.exists():\n",
    "        print(f\"Fetching content from Wikipedia page: {page_title}\")\n",
    "        content += page.text\n",
    "    else:\n",
    "        print(f\"Page {page_title} does not exist on Wikipedia.\")\n",
    "\n",
    "# Save the fetched content to a text file (optional)\n",
    "with open(\"wikipedia_microbes.txt\", \"w\", encoding=\"utf-8\") as file:\n",
    "    file.write(content)"
   ]
  },
  {
   "cell_type": "code",
   "execution_count": 7,
   "id": "07f5d0db-89e8-42ee-9e0a-a348d7498669",
   "metadata": {},
   "outputs": [],
   "source": [
    "# Load the spaCy model\n",
    "nlp = spacy.load(\"en_core_web_md\")\n",
    "\n",
    "# Process the fetched content using spaCy\n",
    "doc = nlp(content)\n"
   ]
  },
  {
   "cell_type": "code",
   "execution_count": 8,
   "id": "f731e0a3-3a03-4bd7-8444-2b46f1c12368",
   "metadata": {},
   "outputs": [],
   "source": [
    "# Extract potential microbial-related terms\n",
    "terms_freq = defaultdict(int)\n",
    "for token in doc:\n",
    "    if token.is_alpha and not token.is_stop and len(token.text) > 3:\n",
    "        terms_freq[token.text.lower()] += 1"
   ]
  },
  {
   "cell_type": "code",
   "execution_count": null,
   "id": "a63fe09c-b72e-4659-8cdc-8444dd51edd6",
   "metadata": {},
   "outputs": [],
   "source": [
    "# Convert to a sorted list\n",
    "all_terms = sorted(terms_freq.keys())"
   ]
  },
  {
   "cell_type": "code",
   "execution_count": null,
   "id": "f174dcb4-2a77-4f57-9055-9465f3259f3e",
   "metadata": {},
   "outputs": [],
   "source": [
    "# Save the terms to a CSV file\n",
    "df = pd.DataFrame(all_terms, columns=[\"Microbial-Related Terms\"])\n",
    "df.to_csv(\"microbial_terms_wikipedia.csv\", index=False)"
   ]
  },
  {
   "cell_type": "code",
   "execution_count": null,
   "id": "c96b1a3a-0ef6-48d5-b4c7-06fbb9f2b5e1",
   "metadata": {},
   "outputs": [],
   "source": [
    "print(f\"Saved {len(all_terms)} microbial-related terms to 'microbial_terms_wikipedia.csv'.\")"
   ]
  },
  {
   "cell_type": "code",
   "execution_count": null,
   "id": "19a7fdb6-aa3d-4d45-a8fe-820ad993cdb3",
   "metadata": {},
   "outputs": [],
   "source": []
  }
 ],
 "metadata": {
  "kernelspec": {
   "display_name": "Python 3 (ipykernel)",
   "language": "python",
   "name": "python3"
  },
  "language_info": {
   "codemirror_mode": {
    "name": "ipython",
    "version": 3
   },
   "file_extension": ".py",
   "mimetype": "text/x-python",
   "name": "python",
   "nbconvert_exporter": "python",
   "pygments_lexer": "ipython3",
   "version": "3.9.13"
  }
 },
 "nbformat": 4,
 "nbformat_minor": 5
}
