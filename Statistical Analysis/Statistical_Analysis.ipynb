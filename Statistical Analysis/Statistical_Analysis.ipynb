{
 "cells": [
  {
   "cell_type": "code",
   "execution_count": 1,
   "id": "39363d54-37ad-43d2-8225-7b582c517e26",
   "metadata": {},
   "outputs": [],
   "source": [
    "OBIS = ''#insert path to parquet file "
   ]
  },
  {
   "cell_type": "code",
   "execution_count": 21,
   "id": "d4de5eb7-66a1-453b-a2b4-5b5ce383a1cb",
   "metadata": {},
   "outputs": [],
   "source": [
    "import pandas as pd\n",
    "import requests\n",
    "import plotly.express as px\n",
    "from collections import Counter"
   ]
  },
  {
   "cell_type": "code",
   "execution_count": 3,
   "id": "2a558d24-bdc4-421b-afcf-badeff5b6ba2",
   "metadata": {},
   "outputs": [],
   "source": [
    "OBIS = pd.read_csv(OBIS)"
   ]
  },
  {
   "cell_type": "code",
   "execution_count": 4,
   "id": "6786d1b4-dd59-45d4-b642-85b78c178db1",
   "metadata": {},
   "outputs": [
    {
     "data": {
      "text/html": [
       "<div>\n",
       "<style scoped>\n",
       "    .dataframe tbody tr th:only-of-type {\n",
       "        vertical-align: middle;\n",
       "    }\n",
       "\n",
       "    .dataframe tbody tr th {\n",
       "        vertical-align: top;\n",
       "    }\n",
       "\n",
       "    .dataframe thead th {\n",
       "        text-align: right;\n",
       "    }\n",
       "</style>\n",
       "<table border=\"1\" class=\"dataframe\">\n",
       "  <thead>\n",
       "    <tr style=\"text-align: right;\">\n",
       "      <th></th>\n",
       "      <th>s</th>\n",
       "      <th>name</th>\n",
       "      <th>desc</th>\n",
       "      <th>keywords</th>\n",
       "      <th>matched_terms_desc</th>\n",
       "      <th>matched_terms_keywords</th>\n",
       "    </tr>\n",
       "  </thead>\n",
       "  <tbody>\n",
       "    <tr>\n",
       "      <th>0</th>\n",
       "      <td>&lt;https://obis.org/dataset/a595a9a0-642a-473f-8...</td>\n",
       "      <td>Electronic Atlas of Ichthyoplankton on the Sco...</td>\n",
       "      <td>The EAISSNA database contains information on l...</td>\n",
       "      <td>Occurrence</td>\n",
       "      <td>plankton, ichthyoplankton</td>\n",
       "      <td>NaN</td>\n",
       "    </tr>\n",
       "    <tr>\n",
       "      <th>1</th>\n",
       "      <td>&lt;https://obis.org/dataset/a595a9a0-642a-473f-8...</td>\n",
       "      <td>Electronic Atlas of Ichthyoplankton on the Sco...</td>\n",
       "      <td>The EAISSNA database contains information on l...</td>\n",
       "      <td>Observation</td>\n",
       "      <td>plankton, ichthyoplankton</td>\n",
       "      <td>NaN</td>\n",
       "    </tr>\n",
       "    <tr>\n",
       "      <th>2</th>\n",
       "      <td>&lt;https://obis.org/dataset/0abb8cc1-8651-4213-a...</td>\n",
       "      <td>Colección de Gusanos Cinta (Nemertea) de la re...</td>\n",
       "      <td>El phylum Nemertea está formado por un pequeño...</td>\n",
       "      <td>Litoral rocoso</td>\n",
       "      <td>coli</td>\n",
       "      <td>NaN</td>\n",
       "    </tr>\n",
       "    <tr>\n",
       "      <th>3</th>\n",
       "      <td>&lt;https://obis.org/dataset/0abb8cc1-8651-4213-a...</td>\n",
       "      <td>Colección de Gusanos Cinta (Nemertea) de la re...</td>\n",
       "      <td>El phylum Nemertea está formado por un pequeño...</td>\n",
       "      <td>Gusanos cintas</td>\n",
       "      <td>coli</td>\n",
       "      <td>NaN</td>\n",
       "    </tr>\n",
       "    <tr>\n",
       "      <th>4</th>\n",
       "      <td>&lt;https://obis.org/dataset/0abb8cc1-8651-4213-a...</td>\n",
       "      <td>Colección de Gusanos Cinta (Nemertea) de la re...</td>\n",
       "      <td>El phylum Nemertea está formado por un pequeño...</td>\n",
       "      <td>Bioprospección</td>\n",
       "      <td>coli</td>\n",
       "      <td>NaN</td>\n",
       "    </tr>\n",
       "  </tbody>\n",
       "</table>\n",
       "</div>"
      ],
      "text/plain": [
       "                                                   s  \\\n",
       "0  <https://obis.org/dataset/a595a9a0-642a-473f-8...   \n",
       "1  <https://obis.org/dataset/a595a9a0-642a-473f-8...   \n",
       "2  <https://obis.org/dataset/0abb8cc1-8651-4213-a...   \n",
       "3  <https://obis.org/dataset/0abb8cc1-8651-4213-a...   \n",
       "4  <https://obis.org/dataset/0abb8cc1-8651-4213-a...   \n",
       "\n",
       "                                                name  \\\n",
       "0  Electronic Atlas of Ichthyoplankton on the Sco...   \n",
       "1  Electronic Atlas of Ichthyoplankton on the Sco...   \n",
       "2  Colección de Gusanos Cinta (Nemertea) de la re...   \n",
       "3  Colección de Gusanos Cinta (Nemertea) de la re...   \n",
       "4  Colección de Gusanos Cinta (Nemertea) de la re...   \n",
       "\n",
       "                                                desc        keywords  \\\n",
       "0  The EAISSNA database contains information on l...      Occurrence   \n",
       "1  The EAISSNA database contains information on l...     Observation   \n",
       "2  El phylum Nemertea está formado por un pequeño...  Litoral rocoso   \n",
       "3  El phylum Nemertea está formado por un pequeño...  Gusanos cintas   \n",
       "4  El phylum Nemertea está formado por un pequeño...  Bioprospección   \n",
       "\n",
       "          matched_terms_desc matched_terms_keywords  \n",
       "0  plankton, ichthyoplankton                    NaN  \n",
       "1  plankton, ichthyoplankton                    NaN  \n",
       "2                       coli                    NaN  \n",
       "3                       coli                    NaN  \n",
       "4                       coli                    NaN  "
      ]
     },
     "execution_count": 4,
     "metadata": {},
     "output_type": "execute_result"
    }
   ],
   "source": [
    "OBIS.head()"
   ]
  },
  {
   "cell_type": "code",
   "execution_count": 11,
   "id": "7eae0582-f00f-4c9e-8133-62829e7d58d7",
   "metadata": {},
   "outputs": [
    {
     "name": "stdout",
     "output_type": "stream",
     "text": [
      "Total number of nodes (ids): 771\n"
     ]
    }
   ],
   "source": [
    "# 1. Count the Number of unique ids \n",
    "num_entries = OBIS['s'].nunique()\n",
    "print(f'Total number of nodes (ids): {num_entries}')"
   ]
  },
  {
   "cell_type": "code",
   "execution_count": 12,
   "id": "7ad1a051-772d-482c-a3e5-bfe20effab87",
   "metadata": {},
   "outputs": [],
   "source": [
    "# Save the number of entries to a text file\n",
    "with open('OBIS_analysis.txt', 'w') as f:\n",
    "    f.write(f'Total number of matching nodes: {num_entries}\\n')\n"
   ]
  },
  {
   "cell_type": "code",
   "execution_count": 13,
   "id": "697fe2de-4732-48aa-bf1b-8d07e944ab37",
   "metadata": {},
   "outputs": [
    {
     "name": "stdout",
     "output_type": "stream",
     "text": [
      "Frequency of each name:\n",
      "CHONe: Meroplanktonic larvae from St. George's Bay. A Canadian Healthy Oceans Network population connectivity project                           15\n",
      "Records of cephalopod paralarvae (Mollusca: Cephalopoda) in the Caribbean and Venezuelan Atlantic Ocean                                         14\n",
      "Australia's Census of Antarctic Marine Life project - IYGPT Data collected on the CEAMARC cruise 2007/08                                        13\n",
      "The Strait of Georgia Ichthyoplankton Survey, 1979-1981                                                                                         13\n",
      "Epipelagic mesozooplankton distribution and abundance in Southern Ocean Atlantic sector and the North Atlantic and Arctic 1996-2013             12\n",
      "                                                                                                                                                ..\n",
      "Copepods from the Southern Bight of the North Sea                                                                                                1\n",
      "Phytoplankton, Joint Open Sea Surveys 2017, EMBLAS II Project                                                                                    1\n",
      "Microorganisms (Bacteria and Archaea) in the marine cavity beneath the McMurdo Ice Shelf, Antarctica                                             1\n",
      "The pre-winter 2007 vertical distribution of zooplankton in the Cape Bathurst and North Water polynyas, and Lancaster Sound, Canadian Arctic     1\n",
      "Community diversity in microbial eukaryotes from lakes in the the Vestfold Hills, Antarctica                                                     1\n",
      "Name: name, Length: 769, dtype: int64\n"
     ]
    }
   ],
   "source": [
    "# 3. Count the Frequency of Names in the \"name\" Column\n",
    "name_counts = OBIS['name'].value_counts()\n",
    "print('Frequency of each name:')\n",
    "print(name_counts)"
   ]
  },
  {
   "cell_type": "code",
   "execution_count": 18,
   "id": "117bd421-f7da-43c4-a3c8-6a769f6c95cb",
   "metadata": {},
   "outputs": [],
   "source": [
    "# Save the frequency of names to a CSV file\n",
    "name_counts.to_csv('name_counts.csv', header=['count'])"
   ]
  },
  {
   "cell_type": "code",
   "execution_count": 16,
   "id": "68ca5a5d-f504-4504-9d0f-58c3e021e7dc",
   "metadata": {},
   "outputs": [
    {
     "name": "stdout",
     "output_type": "stream",
     "text": [
      "Frequency of terms in matched_terms_desc:\n",
      "Counter({'plankton,': 967, 'plankton': 793, 'zooplankton': 640, 'phytoplankton,': 624, 'bacteria,': 239, 'microbial,': 85, 'planktonic': 85, 'coli': 72, 'sequencing': 70, 'ichthyoplankton': 68, 'zooplankton,': 68, 'archaea,': 65, 'flagella,': 62, 'planktonic,': 61, 'sequencing,': 56, 'bacterial,': 50, 'diatoms,': 42, 'microbiome,': 40, 'microzooplankton': 40, 'bacterioplankton,': 35, 'microbiome': 34, 'dinoflagellates,': 34, 'dinoflagellate,': 34, 'flagellates': 34, 'hosts': 31, 'microorganism': 29, 'protozoa': 27, 'heterotrophic,': 24, 'eukarya': 21, 'microbial': 21, 'eukaryote': 21, 'protist': 21, 'eukaryotic,': 20, 'microbes,': 19, 'dinoflagellate': 19, 'cyanobacteria': 19, 'diatoms': 19, 'microorganisms,': 18, 'eukaryotes,': 18, 'parasitic': 18, 'cilia,': 17, 'cilia': 17, 'microbe': 16, 'bacteria': 16, 'bacterial': 16, 'fungi': 15, 'protists,': 15, 'virus,': 14, 'coccolithophores,': 13, 'coccolithophore,': 13, 'cyanobacteria,': 12, 'fungi,': 12, 'ciliates': 11, 'symbiotic': 11, 'viruses,': 11, 'gammaproteobacteria': 11, 'microorganism,': 11, 'archaeal': 10, 'flagellates,': 9, 'infect': 7, 'lichen': 7, 'prokaryotic,': 6, 'microscopic': 5, 'fungal,': 4, 'microbe,': 4, 'protozoa,': 4, 'protozoans,': 4, 'protozoan': 4, 'microalgae,': 3, 'viral,': 3, 'eukaryote,': 3, 'microalgae': 3, 'microscopic,': 3, 'bacterioplankton': 3, 'archaeal,': 3, 'euryarchaeota': 3, 'prokaryotes,': 3, 'ciliates,': 3, 'prokaryote,': 3, 'viral': 3, 'cyanobacterial': 2, 'parasitic,': 2, 'eukaryota': 2, 'lichens,': 1, 'foraminiferans': 1, 'protist,': 1, 'amoeba': 1, 'heterotrophic': 1, 'microbiomes': 1, 'symbiont': 1})\n",
      "Frequency of terms in matched_terms_keywords:\n",
      "Counter({'plankton': 118, 'plankton,': 92, 'zooplankton': 73, 'phytoplankton,': 57, 'diatoms': 9, 'bacteria,': 8, 'bacteria': 8, 'planktonic': 6, 'bacterioplankton': 5, 'archaea': 5, 'cyanobacteria': 4, 'ichthyoplankton': 4, 'zooplankton,': 2, 'microzooplankton': 2, 'fungi': 2, 'sequencing': 2, 'microbial': 2, 'bacterial': 2, 'microalgae': 2, 'lichens,': 1, 'lichen': 1, 'microbial,': 1, 'cilia,': 1, 'ciliates': 1, 'microbes,': 1, 'microbe': 1, 'microorganism': 1, 'microbiome': 1, 'eukarya': 1, 'protists,': 1, 'protist,': 1, 'protist': 1, 'cilia': 1, 'flagella,': 1, 'dinoflagellate': 1, 'fungi,': 1})\n",
      "Combined frequency of terms:\n",
      "Counter({'plankton,': 1059, 'plankton': 911, 'zooplankton': 713, 'phytoplankton,': 681, 'bacteria,': 247, 'planktonic': 91, 'microbial,': 86, 'ichthyoplankton': 72, 'coli': 72, 'sequencing': 72, 'zooplankton,': 70, 'archaea,': 65, 'flagella,': 63, 'planktonic,': 61, 'sequencing,': 56, 'bacterial,': 50, 'diatoms,': 42, 'microzooplankton': 42, 'microbiome,': 40, 'microbiome': 35, 'bacterioplankton,': 35, 'dinoflagellates,': 34, 'dinoflagellate,': 34, 'flagellates': 34, 'hosts': 31, 'microorganism': 30, 'diatoms': 28, 'protozoa': 27, 'bacteria': 24, 'heterotrophic,': 24, 'cyanobacteria': 23, 'microbial': 23, 'eukarya': 22, 'protist': 22, 'eukaryote': 21, 'microbes,': 20, 'dinoflagellate': 20, 'eukaryotic,': 20, 'cilia,': 18, 'microorganisms,': 18, 'cilia': 18, 'eukaryotes,': 18, 'bacterial': 18, 'parasitic': 18, 'microbe': 17, 'fungi': 17, 'protists,': 16, 'virus,': 14, 'fungi,': 13, 'coccolithophores,': 13, 'coccolithophore,': 13, 'ciliates': 12, 'cyanobacteria,': 12, 'symbiotic': 11, 'viruses,': 11, 'gammaproteobacteria': 11, 'microorganism,': 11, 'archaeal': 10, 'flagellates,': 9, 'lichen': 8, 'bacterioplankton': 8, 'infect': 7, 'prokaryotic,': 6, 'microalgae': 5, 'microscopic': 5, 'archaea': 5, 'fungal,': 4, 'microbe,': 4, 'protozoa,': 4, 'protozoans,': 4, 'protozoan': 4, 'microalgae,': 3, 'viral,': 3, 'eukaryote,': 3, 'microscopic,': 3, 'archaeal,': 3, 'euryarchaeota': 3, 'prokaryotes,': 3, 'ciliates,': 3, 'prokaryote,': 3, 'viral': 3, 'lichens,': 2, 'cyanobacterial': 2, 'parasitic,': 2, 'protist,': 2, 'eukaryota': 2, 'foraminiferans': 1, 'amoeba': 1, 'heterotrophic': 1, 'microbiomes': 1, 'symbiont': 1})\n"
     ]
    }
   ],
   "source": [
    "# 4. Count the Frequency of Keywords in \"matched_terms_desc\" and \"matched_terms_keywords\" Columns\n",
    "# Function to count frequencies of words in a column\n",
    "def count_words(series):\n",
    "    words = series.dropna().str.cat(sep=' ').split()\n",
    "    return Counter(words)\n",
    "\n",
    "# Count words in matched_terms_desc\n",
    "matched_terms_desc_counts = count_words(OBIS['matched_terms_desc'])\n",
    "print('Frequency of terms in matched_terms_desc:')\n",
    "print(matched_terms_desc_counts)\n",
    "\n",
    "# Save the frequency of terms in matched_terms_desc to a CSV file\n",
    "pd.DataFrame.from_dict(matched_terms_desc_counts, orient='index', columns=['count']).to_csv('matched_terms_desc_counts.csv')\n",
    "\n",
    "# Append the frequency of terms in matched_terms_desc to the text file\n",
    "with open('analysis_results.txt', 'a') as f:\n",
    "    f.write('\\nFrequency of terms in matched_terms_desc:\\n')\n",
    "    for term, count in matched_terms_desc_counts.items():\n",
    "        f.write(f'{term}: {count}\\n')\n",
    "\n",
    "# Count words in matched_terms_keywords\n",
    "matched_terms_keywords_counts = count_words(OBIS['matched_terms_keywords'])\n",
    "print('Frequency of terms in matched_terms_keywords:')\n",
    "print(matched_terms_keywords_counts)\n",
    "\n",
    "# Save the frequency of terms in matched_terms_keywords to a CSV file\n",
    "pd.DataFrame.from_dict(matched_terms_keywords_counts, orient='index', columns=['count']).to_csv('matched_terms_keywords_counts.csv')\n",
    "\n",
    "# Append the frequency of terms in matched_terms_keywords to the text file\n",
    "with open('Frequency_of_matched_terms.txt', 'a') as f:\n",
    "    f.write('\\nFrequency of terms in matched_terms_keywords:\\n')\n",
    "    for term, count in matched_terms_keywords_counts.items():\n",
    "        f.write(f'{term}: {count}\\n')\n",
    "\n",
    "# Combine the two counters\n",
    "combined_counts = matched_terms_desc_counts + matched_terms_keywords_counts\n",
    "print('Combined frequency of terms:')\n",
    "print(combined_counts)"
   ]
  }
 ],
 "metadata": {
  "kernelspec": {
   "display_name": "Python 3 (ipykernel)",
   "language": "python",
   "name": "python3"
  },
  "language_info": {
   "codemirror_mode": {
    "name": "ipython",
    "version": 3
   },
   "file_extension": ".py",
   "mimetype": "text/x-python",
   "name": "python",
   "nbconvert_exporter": "python",
   "pygments_lexer": "ipython3",
   "version": "3.9.13"
  }
 },
 "nbformat": 4,
 "nbformat_minor": 5
}
